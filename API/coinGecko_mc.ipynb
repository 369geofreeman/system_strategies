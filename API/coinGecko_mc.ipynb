{
 "cells": [
  {
   "cell_type": "markdown",
   "metadata": {},
   "source": [
    "# CoinGecko Marketcap & Volume"
   ]
  },
  {
   "cell_type": "markdown",
   "metadata": {},
   "source": [
    "imports and base URL"
   ]
  },
  {
   "cell_type": "code",
   "execution_count": 13,
   "metadata": {},
   "outputs": [],
   "source": [
    "import requests\n",
    "import pprint\n",
    "\n",
    "\n",
    "base_url = \"http://api.coingecko.com/api/v3\""
   ]
  },
  {
   "cell_type": "markdown",
   "metadata": {},
   "source": [
    "Test URL with ping"
   ]
  },
  {
   "cell_type": "code",
   "execution_count": 14,
   "metadata": {},
   "outputs": [
    {
     "name": "stdout",
     "output_type": "stream",
     "text": [
      "{'gecko_says': '(V3) To the Moon!'}\n"
     ]
    }
   ],
   "source": [
    "endpoint = \"/ping\"\n",
    "response = None\n",
    "\n",
    "try:\n",
    "    response = requests.get(base_url + endpoint)\n",
    "except Exception as e:\n",
    "    print(\"Connection error while making GET request:\", e)\n",
    "\n",
    "if response is not None:\n",
    "    response = response.json()\n",
    "    print(response)"
   ]
  },
  {
   "cell_type": "markdown",
   "metadata": {},
   "source": [
    "Marketcap and volume"
   ]
  },
  {
   "cell_type": "code",
   "execution_count": 15,
   "metadata": {},
   "outputs": [
    {
     "name": "stdout",
     "output_type": "stream",
     "text": [
      "{'bitcoin': {'usd': 23204,\n",
      "             'usd_24h_vol': 21053481222.29959,\n",
      "             'usd_market_cap': 443530227191.509}}\n"
     ]
    }
   ],
   "source": [
    "endpoint = \"/simple/price\"\n",
    "coin_id = 'bitcoin'\n",
    "response = None\n",
    "\n",
    "data = dict()\n",
    "data['ids'] = coin_id\n",
    "data['vs_currencies'] = \"usd\"\n",
    "data['include_market_cap'] = \"true\"\n",
    "data['include_24hr_vol'] = \"true\"\n",
    "\n",
    "try:\n",
    "    response = requests.get(base_url + endpoint, data)\n",
    "except Exception as e:\n",
    "    print(\"Connection error while making GET request:\", e)\n",
    "\n",
    "if response is not None:\n",
    "    response = response.json()\n",
    "    pprint.pprint(response)"
   ]
  }
 ],
 "metadata": {
  "kernelspec": {
   "display_name": "Python 3.9.10 64-bit",
   "language": "python",
   "name": "python3"
  },
  "language_info": {
   "codemirror_mode": {
    "name": "ipython",
    "version": 3
   },
   "file_extension": ".py",
   "mimetype": "text/x-python",
   "name": "python",
   "nbconvert_exporter": "python",
   "pygments_lexer": "ipython3",
   "version": "3.9.10"
  },
  "orig_nbformat": 4,
  "vscode": {
   "interpreter": {
    "hash": "aee8b7b246df8f9039afb4144a1f6fd8d2ca17a180786b69acc140d282b71a49"
   }
  }
 },
 "nbformat": 4,
 "nbformat_minor": 2
}
