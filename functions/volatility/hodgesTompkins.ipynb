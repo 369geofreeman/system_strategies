{
 "cells": [
  {
   "cell_type": "markdown",
   "metadata": {},
   "source": [
    "# Hodges Tompkins\n",
    "\n",
    "Import libraries"
   ]
  },
  {
   "cell_type": "code",
   "execution_count": 1,
   "metadata": {},
   "outputs": [],
   "source": [
    "import numpy as np\n",
    "import pandas as pd\n",
    "import matplotlib.pyplot as plt\n",
    "\n",
    "import datetime\n",
    "import dateutil\n",
    "import requests\n",
    "import math\n",
    "\n",
    "\n",
    "%matplotlib inline\n",
    "plt.rcParams['figure.figsize'] = [14, 5]"
   ]
  },
  {
   "cell_type": "markdown",
   "metadata": {},
   "source": [
    "### Collect data\n",
    "\n",
    "Pull in the relevant data from Bitmex"
   ]
  },
  {
   "cell_type": "code",
   "execution_count": 2,
   "metadata": {},
   "outputs": [],
   "source": [
    "def collect_data(from_time: str, to_time: str, tf: str, contract: str = \"ETHUSD\") -> pd.DataFrame:\n",
    "\n",
    "    url = \"https://www.bitmex.com/api/v1/trade/bucketed\"\n",
    "    candles = {'timestamp': [], 'open': [], 'high': [], 'low': [], 'close': []}\n",
    "\n",
    "    # Set inputs\n",
    "    data = dict()\n",
    "    data['symbol'] = contract\n",
    "    data['partial'] = True  # returns a candle if it is not finished yet\n",
    "    data['binSize'] = tf\n",
    "    data['count'] = 500   # how many candles we can return (500 max)\n",
    "    data['reverse'] = True\n",
    "\n",
    "    data[\"startTime\"] = datetime.datetime.strptime(from_time, '%Y-%m-%d %H:%M')\n",
    "    data[\"endTime\"] = datetime.datetime.strptime(to_time, '%Y-%m-%d %H:%M')\n",
    "\n",
    "    BITMEX_TF_MINUTES = {\"1m\": 1, \"5m\": 5, \"10m\": 10, \"15m\": 15, \"1h\": 60, \"1d\": 1440}\n",
    "\n",
    "\n",
    "    try:\n",
    "        response = requests.get(url, params=data)\n",
    "    except Exception as e:\n",
    "        print(f\"Connecton error while making GET request to {url}: {e}\")\n",
    "        return\n",
    "\n",
    "    if response.status_code == 200:\n",
    "        raw_candles = response.json()\n",
    "    else:\n",
    "        print(f\"Error while making GET request to {url}: {response.status_code}\")\n",
    "        print(response.headers)\n",
    "        return None\n",
    "    \n",
    "    if raw_candles is not None:\n",
    "        for idx, c in enumerate(reversed(raw_candles)):\n",
    "            ts = dateutil.parser.isoparse(c['timestamp'])\n",
    "            ts = ts - datetime.timedelta(minutes=BITMEX_TF_MINUTES[tf])\n",
    "            candles['timestamp'].append(ts)\n",
    "            candles[\"open\"].append(c[\"open\"])\n",
    "            candles[\"high\"].append(c[\"high\"])\n",
    "            candles[\"low\"].append(c[\"low\"])\n",
    "            candles[\"close\"].append(c[\"close\"])\n",
    "\n",
    "\n",
    "    return pd.DataFrame(candles)"
   ]
  },
  {
   "cell_type": "markdown",
   "metadata": {},
   "source": [
    "Hodges Tompkins function"
   ]
  },
  {
   "cell_type": "code",
   "execution_count": 5,
   "metadata": {},
   "outputs": [],
   "source": [
    "def get_estimator(price_data, window=30, trading_periods=252, clean=True):\n",
    "    \n",
    "    log_return = (price_data['close'] / price_data['close'].shift(1)).apply(np.log)\n",
    "\n",
    "    vol = log_return.rolling(\n",
    "        window=window,\n",
    "        center=False\n",
    "    ).std() * math.sqrt(trading_periods)\n",
    "\n",
    "    h = window\n",
    "    n = (log_return.count() - h) + 1\n",
    "\n",
    "    adj_factor = 1.0 / (1.0 - (h / n) + ((h**2 - 1) / (3 * n**2)))\n",
    "\n",
    "    result = vol * adj_factor\n",
    "\n",
    "    if clean:\n",
    "        return result.dropna()\n",
    "    else:\n",
    "        return result"
   ]
  },
  {
   "cell_type": "markdown",
   "metadata": {},
   "source": [
    "Build the `Dataframe`"
   ]
  },
  {
   "cell_type": "code",
   "execution_count": 6,
   "metadata": {},
   "outputs": [
    {
     "data": {
      "text/html": [
       "<div>\n",
       "<style scoped>\n",
       "    .dataframe tbody tr th:only-of-type {\n",
       "        vertical-align: middle;\n",
       "    }\n",
       "\n",
       "    .dataframe tbody tr th {\n",
       "        vertical-align: top;\n",
       "    }\n",
       "\n",
       "    .dataframe thead th {\n",
       "        text-align: right;\n",
       "    }\n",
       "</style>\n",
       "<table border=\"1\" class=\"dataframe\">\n",
       "  <thead>\n",
       "    <tr style=\"text-align: right;\">\n",
       "      <th></th>\n",
       "      <th>timestamp</th>\n",
       "      <th>open</th>\n",
       "      <th>high</th>\n",
       "      <th>low</th>\n",
       "      <th>close</th>\n",
       "      <th>hodges_ompkins</th>\n",
       "    </tr>\n",
       "  </thead>\n",
       "  <tbody>\n",
       "    <tr>\n",
       "      <th>30</th>\n",
       "      <td>2022-08-01 02:25:00+00:00</td>\n",
       "      <td>23410.0</td>\n",
       "      <td>23433.0</td>\n",
       "      <td>23410.0</td>\n",
       "      <td>23419.5</td>\n",
       "      <td>0.017478</td>\n",
       "    </tr>\n",
       "    <tr>\n",
       "      <th>31</th>\n",
       "      <td>2022-08-01 02:30:00+00:00</td>\n",
       "      <td>23419.5</td>\n",
       "      <td>23432.0</td>\n",
       "      <td>23416.5</td>\n",
       "      <td>23430.0</td>\n",
       "      <td>0.016002</td>\n",
       "    </tr>\n",
       "    <tr>\n",
       "      <th>32</th>\n",
       "      <td>2022-08-01 02:35:00+00:00</td>\n",
       "      <td>23430.0</td>\n",
       "      <td>23430.0</td>\n",
       "      <td>23405.0</td>\n",
       "      <td>23406.5</td>\n",
       "      <td>0.016665</td>\n",
       "    </tr>\n",
       "    <tr>\n",
       "      <th>33</th>\n",
       "      <td>2022-08-01 02:40:00+00:00</td>\n",
       "      <td>23406.5</td>\n",
       "      <td>23406.5</td>\n",
       "      <td>23393.0</td>\n",
       "      <td>23393.5</td>\n",
       "      <td>0.016899</td>\n",
       "    </tr>\n",
       "    <tr>\n",
       "      <th>34</th>\n",
       "      <td>2022-08-01 02:45:00+00:00</td>\n",
       "      <td>23393.5</td>\n",
       "      <td>23404.5</td>\n",
       "      <td>23381.5</td>\n",
       "      <td>23381.5</td>\n",
       "      <td>0.017091</td>\n",
       "    </tr>\n",
       "    <tr>\n",
       "      <th>...</th>\n",
       "      <td>...</td>\n",
       "      <td>...</td>\n",
       "      <td>...</td>\n",
       "      <td>...</td>\n",
       "      <td>...</td>\n",
       "      <td>...</td>\n",
       "    </tr>\n",
       "    <tr>\n",
       "      <th>188</th>\n",
       "      <td>2022-08-01 15:35:00+00:00</td>\n",
       "      <td>23325.0</td>\n",
       "      <td>23329.0</td>\n",
       "      <td>23275.5</td>\n",
       "      <td>23300.0</td>\n",
       "      <td>0.048086</td>\n",
       "    </tr>\n",
       "    <tr>\n",
       "      <th>189</th>\n",
       "      <td>2022-08-01 15:40:00+00:00</td>\n",
       "      <td>23300.0</td>\n",
       "      <td>23300.0</td>\n",
       "      <td>23284.5</td>\n",
       "      <td>23292.0</td>\n",
       "      <td>0.047520</td>\n",
       "    </tr>\n",
       "    <tr>\n",
       "      <th>190</th>\n",
       "      <td>2022-08-01 15:45:00+00:00</td>\n",
       "      <td>23292.0</td>\n",
       "      <td>23341.5</td>\n",
       "      <td>23289.5</td>\n",
       "      <td>23341.5</td>\n",
       "      <td>0.047850</td>\n",
       "    </tr>\n",
       "    <tr>\n",
       "      <th>191</th>\n",
       "      <td>2022-08-01 15:50:00+00:00</td>\n",
       "      <td>23341.5</td>\n",
       "      <td>23341.5</td>\n",
       "      <td>23302.0</td>\n",
       "      <td>23313.0</td>\n",
       "      <td>0.048133</td>\n",
       "    </tr>\n",
       "    <tr>\n",
       "      <th>192</th>\n",
       "      <td>2022-08-01 15:55:00+00:00</td>\n",
       "      <td>23313.0</td>\n",
       "      <td>23350.5</td>\n",
       "      <td>23304.5</td>\n",
       "      <td>23324.5</td>\n",
       "      <td>0.048047</td>\n",
       "    </tr>\n",
       "  </tbody>\n",
       "</table>\n",
       "<p>163 rows × 6 columns</p>\n",
       "</div>"
      ],
      "text/plain": [
       "                    timestamp     open     high      low    close  \\\n",
       "30  2022-08-01 02:25:00+00:00  23410.0  23433.0  23410.0  23419.5   \n",
       "31  2022-08-01 02:30:00+00:00  23419.5  23432.0  23416.5  23430.0   \n",
       "32  2022-08-01 02:35:00+00:00  23430.0  23430.0  23405.0  23406.5   \n",
       "33  2022-08-01 02:40:00+00:00  23406.5  23406.5  23393.0  23393.5   \n",
       "34  2022-08-01 02:45:00+00:00  23393.5  23404.5  23381.5  23381.5   \n",
       "..                        ...      ...      ...      ...      ...   \n",
       "188 2022-08-01 15:35:00+00:00  23325.0  23329.0  23275.5  23300.0   \n",
       "189 2022-08-01 15:40:00+00:00  23300.0  23300.0  23284.5  23292.0   \n",
       "190 2022-08-01 15:45:00+00:00  23292.0  23341.5  23289.5  23341.5   \n",
       "191 2022-08-01 15:50:00+00:00  23341.5  23341.5  23302.0  23313.0   \n",
       "192 2022-08-01 15:55:00+00:00  23313.0  23350.5  23304.5  23324.5   \n",
       "\n",
       "     hodges_ompkins  \n",
       "30         0.017478  \n",
       "31         0.016002  \n",
       "32         0.016665  \n",
       "33         0.016899  \n",
       "34         0.017091  \n",
       "..              ...  \n",
       "188        0.048086  \n",
       "189        0.047520  \n",
       "190        0.047850  \n",
       "191        0.048133  \n",
       "192        0.048047  \n",
       "\n",
       "[163 rows x 6 columns]"
      ]
     },
     "execution_count": 6,
     "metadata": {},
     "output_type": "execute_result"
    }
   ],
   "source": [
    "# from_time = \"2022-07-30 00:00\"\n",
    "# to_time = \"2022-08-01 15:00\"\n",
    "from_time = \"2022-08-01 00:00\"\n",
    "to_time = \"2022-08-01 16:00\"\n",
    "tf = \"5m\"\n",
    "contract = \"XBTUSD\"\n",
    "\n",
    "data = collect_data(from_time, to_time, tf, contract)\n",
    "ht = get_estimator(data, trading_periods=288)\n",
    "data['hodges_tompkins'] = ht\n",
    "data = data.iloc[30:]\n",
    "data"
   ]
  },
  {
   "cell_type": "markdown",
   "metadata": {},
   "source": [
    "### Volatility Plot"
   ]
  },
  {
   "cell_type": "code",
   "execution_count": 7,
   "metadata": {},
   "outputs": [
    {
     "data": {
      "text/plain": [
       "<AxesSubplot:>"
      ]
     },
     "execution_count": 7,
     "metadata": {},
     "output_type": "execute_result"
    },
    {
     "data": {
      "image/png": "[encoded data removed]",
      "text/plain": [
       "<Figure size 1008x360 with 1 Axes>"
      ]
     },
     "metadata": {
      "needs_background": "light"
     },
     "output_type": "display_data"
    }
   ],
   "source": [
    "data.plot(y='hodges_tompkins')"
   ]
  },
  {
   "cell_type": "markdown",
   "metadata": {},
   "source": [
    "### Close Price Plot"
   ]
  },
  {
   "cell_type": "code",
   "execution_count": 8,
   "metadata": {},
   "outputs": [
    {
     "data": {
      "text/plain": [
       "<AxesSubplot:>"
      ]
     },
     "execution_count": 8,
     "metadata": {},
     "output_type": "execute_result"
    },
    {
     "data": {
      "image/png": "[encoded data removed]",
      "text/plain": [
       "<Figure size 1008x360 with 1 Axes>"
      ]
     },
     "metadata": {
      "needs_background": "light"
     },
     "output_type": "display_data"
    }
   ],
   "source": [
    "data.plot(y='close')"
   ]
  }
 ],
 "metadata": {
  "kernelspec": {
   "display_name": "Python 3.9.10 64-bit",
   "language": "python",
   "name": "python3"
  },
  "language_info": {
   "codemirror_mode": {
    "name": "ipython",
    "version": 3
   },
   "file_extension": ".py",
   "mimetype": "text/x-python",
   "name": "python",
   "nbconvert_exporter": "python",
   "pygments_lexer": "ipython3",
   "version": "3.9.10"
  },
  "orig_nbformat": 4,
  "vscode": {
   "interpreter": {
    "hash": "aee8b7b246df8f9039afb4144a1f6fd8d2ca17a180786b69acc140d282b71a49"
   }
  }
 },
 "nbformat": 4,
 "nbformat_minor": 2
}
