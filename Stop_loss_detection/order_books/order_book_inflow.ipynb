{
 "cells": [
  {
   "cell_type": "markdown",
   "metadata": {},
   "source": [
    "# Analysing the Order Book for stop levels\n",
    "\n",
    "Using the Bitmex API we can analyse the order books. The goal of this is to find peak levels of buy and sell orders.\n",
    "Due to the frequency of our trading system, we will need to find a suitable percentile of orders both higher and lower in range from the current price.\n",
    "Using this range of data we can find where the majority of the orders volume are, and which peaks are closest to where we are trading to update date our stop-loss or liquidation levels accordingly.\n",
    "\n",
    "This notebbok is seperated into tthe following parts:\n",
    "\n",
    "- [Part 0. Import Libraries](#part-0.-import-libraries)\n",
    "- [Part 1. Test Order Book Data](#part-1.-test-order-book-data)\n",
    "- [Part 2. Get the OrderBook Data by Percentiles](#part-2.-get-the-orderBook-data-by-percentiles)\n",
    "- [Part 3. Find the Peaks in Data Range](#part-3.-find-the-peaks-in-data-range)\n",
    "\n"
   ]
  },
  {
   "cell_type": "markdown",
   "metadata": {},
   "source": [
    "---\n",
    "\n",
    "# Part 0. Import Libraries\n",
    "\n",
    "Import Libraries and set global variables"
   ]
  },
  {
   "cell_type": "code",
   "execution_count": 59,
   "metadata": {},
   "outputs": [],
   "source": [
    "import pandas as pd\n",
    "import numpy as np\n",
    "import matplotlib.pyplot as plt\n",
    "\n",
    "import requests\n",
    "from typing import List, Dict\n",
    "\n",
    "from scipy.signal import find_peaks, peak_prominences\n",
    "from scipy.stats import iqr\n",
    "\n",
    "%matplotlib inline\n",
    "plt.rcParams['figure.figsize'] = [17, 7]\n",
    "\n",
    "contract = \"XBTUSD\""
   ]
  },
  {
   "cell_type": "markdown",
   "metadata": {},
   "source": [
    "---\n",
    "# Part 1. Test Order Book Data"
   ]
  },
  {
   "cell_type": "markdown",
   "metadata": {},
   "source": [
    "### Get Order Book Data"
   ]
  },
  {
   "cell_type": "code",
   "execution_count": 2,
   "metadata": {},
   "outputs": [],
   "source": [
    "def orderbook_data(depth: int, contract: str = \"ETHUSD\", raw_data=False):\n",
    "\n",
    "    url = \"https://www.bitmex.com/api/v1/orderBook/L2\"\n",
    "    book_data = {'buys': 0, 'sells': 0}\n",
    "    raw_book_data = {'total_buys': 0, 'sum_of_buys': 0, 'furthest_5_buy_prices': [],\n",
    "                    'total_sells': 0, 'sum_of_sells': 0, 'furthest_5_sell_prices': []}\n",
    "\n",
    "\n",
    "    # Set inputs\n",
    "    data = dict()\n",
    "    data['symbol'] = contract\n",
    "    data['depth'] = depth\n",
    "\n",
    "    try:\n",
    "        response = requests.get(url, params=data)\n",
    "    except Exception as e:\n",
    "        print(f\"Connecton error while making GET request to {url}: {e}\")\n",
    "        return\n",
    "\n",
    "    if response.status_code == 200:\n",
    "        response_data = response.json()\n",
    "    else:\n",
    "        print(f\"Error while making GET request to {url}: {response.status_code}\")\n",
    "        print(response.headers)\n",
    "        return None\n",
    "    \n",
    "    if response_data is not None:\n",
    "        if raw_data:\n",
    "            for idx, data in enumerate(response_data):\n",
    "\n",
    "                if idx < 5:\n",
    "                    raw_book_data['furthest_5_sell_prices'].append(data['price'])\n",
    "\n",
    "                if idx > len(response_data)-6:\n",
    "                    raw_book_data['furthest_5_buy_prices'].append(data['price'])\n",
    "\n",
    "                if data['side'] == \"Buy\":\n",
    "                    raw_book_data[\"sum_of_buys\"] += data[\"size\"]\n",
    "                    raw_book_data['total_buys'] += 1\n",
    "\n",
    "                elif data['side'] == \"Sell\":\n",
    "                    raw_book_data[\"sum_of_sells\"] += data[\"size\"]\n",
    "                    raw_book_data['total_sells'] += 1\n",
    "\n",
    "            return raw_book_data\n",
    "\n",
    "        else:\n",
    "            for data in response_data:\n",
    "                if data['side'] == \"Buy\":\n",
    "                    book_data[\"buys\"] += data[\"size\"]\n",
    "\n",
    "                elif data['side'] == \"Sell\":\n",
    "                    book_data[\"sells\"] += data[\"size\"]\n",
    "    \n",
    "            return book_data"
   ]
  },
  {
   "cell_type": "markdown",
   "metadata": {},
   "source": [
    "### Get current price\n",
    "\n",
    "Gets the current price of the selected contract"
   ]
  },
  {
   "cell_type": "code",
   "execution_count": 3,
   "metadata": {},
   "outputs": [],
   "source": [
    "def get_curr_price(contract: str) -> str:\n",
    "\n",
    "    url = \"https://www.bitmex.com/api/v1/trade/bucketed\"\n",
    "\n",
    "    data = dict()\n",
    "    data['symbol'] = contract\n",
    "    data['partial'] = True  # returns a candle if it is not finished yet\n",
    "    data['binSize'] = '1m'\n",
    "    data['count'] = 1   # how many candles we can return (500 max)\n",
    "    data['reverse'] = True\n",
    "\n",
    "    try:\n",
    "        response = requests.get(url, params=data)\n",
    "    except Exception as e:\n",
    "        print(f\"Connecton error while making GET request to {url}: {e}\")\n",
    "        return\n",
    "\n",
    "    if response.status_code == 200:\n",
    "        raw_candles = response.json()\n",
    "    else:\n",
    "        print(f\"Error while making GET request to {url}: {response.status_code}\")\n",
    "        print(response.headers)\n",
    "        return None\n",
    "    \n",
    "    if raw_candles is not None:\n",
    "        return raw_candles[0]['close']"
   ]
  },
  {
   "cell_type": "markdown",
   "metadata": {},
   "source": [
    "### Get Size of the OrderBook\n",
    "\n",
    "Run some stats on the entire orderbook"
   ]
  },
  {
   "cell_type": "code",
   "execution_count": 4,
   "metadata": {},
   "outputs": [
    {
     "name": "stdout",
     "output_type": "stream",
     "text": [
      "\n",
      "Current XBTUSD price: $20,080.00\n",
      "\n",
      "The average size of the order book for XBTUSD is: 2739\n",
      "There are 1184 more orders from sellers\n",
      "\n",
      "Total orderbook size: 5478\n",
      "Total buys: 2147\n",
      "Total sells: 3331\n",
      "\n",
      "Total buy orderbook volume: $72,541,600.00\n",
      "Total sell orderbook volume: $105,717,700.00\n",
      "\n",
      "Furthest 5 buy prices:\n",
      "1 => $30.00\n",
      "2 => $10.00\n",
      "3 => $1.50\n",
      "4 => $1.00\n",
      "5 => $0.50\n",
      "\n",
      "Furthest 5 sell prices:\n",
      "1 => $573,000.00\n",
      "2 => $657,700.00\n",
      "3 => $658,900.00\n",
      "4 => $662,520.00\n",
      "5 => $1,000,000.00\n"
     ]
    }
   ],
   "source": [
    "book_size = orderbook_data(0, contract, raw_data=True)\n",
    "book_size_avg = (book_size[\"total_buys\"] + book_size[\"total_sells\"]) // 2\n",
    "\n",
    "curr_price = get_curr_price(contract)\n",
    "\n",
    "ret = \"Buyers\" if book_size[\"total_buys\"] > book_size[\"total_sells\"] else \"sellers\"\n",
    "\n",
    "if ret == \"Buyers\":\n",
    "    amount = book_size[\"total_buys\"] - book_size[\"total_sells\"]\n",
    "else:\n",
    "    amount = book_size[\"total_sells\"] - book_size[\"total_buys\"]\n",
    "\n",
    "\n",
    "print(f\"\\nCurrent {contract} price: ${curr_price:,.2f}\")\n",
    "\n",
    "print(f\"\\nThe average size of the order book for {contract} is: {book_size_avg}\")\n",
    "print(f\"There are {amount} more orders from {ret}\")\n",
    "\n",
    "print(f'\\nTotal orderbook size: {book_size[\"total_buys\"]+book_size[\"total_sells\"]}')\n",
    "print(f'Total buys: {book_size[\"total_buys\"]}')\n",
    "print(f'Total sells: {book_size[\"total_sells\"]}')\n",
    "\n",
    "print(f\"\\nTotal buy orderbook volume: ${book_size['sum_of_buys']:,.2f}\")\n",
    "print(f\"Total sell orderbook volume: ${book_size['sum_of_sells']:,.2f}\")\n",
    "\n",
    "print('\\nFurthest 5 buy prices:')\n",
    "for i, v in enumerate(book_size['furthest_5_buy_prices']):\n",
    "    print(f\"{i+1} => ${v:,.2f}\")\n",
    "\n",
    "print('\\nFurthest 5 sell prices:')\n",
    "for i, v in enumerate(book_size['furthest_5_sell_prices'][::-1]):\n",
    "    print(f\"{i+1} => ${v:,.2f}\")"
   ]
  },
  {
   "cell_type": "markdown",
   "metadata": {},
   "source": [
    "As we can see from the furthest five buy and sell prices, they are at very extreme levels in comparision to the current price.\n",
    "Knowing this it becomes obvious we can't use the entire order book for analysis as the outliars will screw our data.\n",
    "\n",
    "The next idea will be to get different percentile ranges for the first 50% of depth in the order book in both direction (buy / sell) to find the correct slice for our system to perform optimally."
   ]
  },
  {
   "cell_type": "markdown",
   "metadata": {},
   "source": [
    "---\n",
    "# Part 2. Get the OrderBook Data by Percentiles"
   ]
  },
  {
   "cell_type": "markdown",
   "metadata": {},
   "source": [
    "### Get data\n",
    "\n",
    "This time we will pass the variable $k$, a percentile to dictate how far from the current price we want to retrive order book data.\n",
    "we pass ```orderbook_data_by_percentile``` in a loop with 5% increasing levels of $k$ starting at 5% until 50%."
   ]
  },
  {
   "cell_type": "code",
   "execution_count": 5,
   "metadata": {},
   "outputs": [],
   "source": [
    "def orderbook_data_by_percentile(k_buy: float, k_sell: float, contract: str = \"ETHUSD\", raw_data=False):\n",
    "\n",
    "    url = \"https://www.bitmex.com/api/v1/orderBook/L2\"\n",
    "\n",
    "    raw_book_data = {'total_buys': 0, 'sum_of_buys': 0, 'total_sells': 0, 'sum_of_sells': 0}\n",
    "    raw_sell_nodes = {\"size\": [], \"price\": []}\n",
    "    raw_buy_nodes = {\"size\": [], \"price\": []}\n",
    "\n",
    "\n",
    "    # Set inputs\n",
    "    data = dict()\n",
    "    data['symbol'] = contract\n",
    "    data['depth'] = 0\n",
    "\n",
    "    try:\n",
    "        response = requests.get(url, params=data)\n",
    "\n",
    "    except Exception as e:\n",
    "        print(f\"Connecton error while making GET request to {url}: {e}\")\n",
    "        return\n",
    "\n",
    "    if response.status_code == 200:\n",
    "        response_data = response.json()\n",
    "\n",
    "    else:\n",
    "        print(f\"Error while making GET request to {url}: {response.status_code}\")\n",
    "        print(response.headers)\n",
    "        return None\n",
    "    \n",
    "    if response_data is not None:\n",
    "\n",
    "        for idx, data in enumerate(response_data):\n",
    "\n",
    "            if data['side'] == \"Buy\":\n",
    "                if data['price'] > k_buy:\n",
    "                    raw_book_data[\"sum_of_buys\"] += data[\"size\"]\n",
    "                    raw_book_data['total_buys'] += 1\n",
    "\n",
    "                    if raw_data:\n",
    "                        raw_buy_nodes['size'].append(data['size'])\n",
    "                        raw_buy_nodes['price'].append(data['price'])\n",
    "\n",
    "            elif data['side'] == \"Sell\":\n",
    "                if data['price'] < k_sell:\n",
    "                    raw_book_data[\"sum_of_sells\"] += data[\"size\"]\n",
    "                    raw_book_data['total_sells'] += 1\n",
    "\n",
    "                    if raw_data:\n",
    "                        raw_sell_nodes['size'].append(data['size'])\n",
    "                        raw_sell_nodes['price'].append(data['price'])\n",
    "\n",
    "        if raw_data:\n",
    "            return raw_book_data, raw_buy_nodes, raw_sell_nodes\n",
    "        return raw_book_data\n"
   ]
  },
  {
   "cell_type": "markdown",
   "metadata": {},
   "source": [
    "We can store the collected data for each 5% above and below the current price and store the results in a Pandas ```DataFrame```"
   ]
  },
  {
   "cell_type": "code",
   "execution_count": 6,
   "metadata": {},
   "outputs": [
    {
     "name": "stdout",
     "output_type": "stream",
     "text": [
      "Current price: 20080\n"
     ]
    },
    {
     "data": {
      "text/html": [
       "<div>\n",
       "<style scoped>\n",
       "    .dataframe tbody tr th:only-of-type {\n",
       "        vertical-align: middle;\n",
       "    }\n",
       "\n",
       "    .dataframe tbody tr th {\n",
       "        vertical-align: top;\n",
       "    }\n",
       "\n",
       "    .dataframe thead th {\n",
       "        text-align: right;\n",
       "    }\n",
       "</style>\n",
       "<table border=\"1\" class=\"dataframe\">\n",
       "  <thead>\n",
       "    <tr style=\"text-align: right;\">\n",
       "      <th></th>\n",
       "      <th>total_buy_orders</th>\n",
       "      <th>total_sell_orders</th>\n",
       "      <th>Buy_volume</th>\n",
       "      <th>sell_volume</th>\n",
       "      <th>Difference</th>\n",
       "    </tr>\n",
       "    <tr>\n",
       "      <th>%_from_current_price</th>\n",
       "      <th></th>\n",
       "      <th></th>\n",
       "      <th></th>\n",
       "      <th></th>\n",
       "      <th></th>\n",
       "    </tr>\n",
       "  </thead>\n",
       "  <tbody>\n",
       "    <tr>\n",
       "      <th>5%</th>\n",
       "      <td>684</td>\n",
       "      <td>616</td>\n",
       "      <td>$23,596,000.00</td>\n",
       "      <td>$25,368,400.00</td>\n",
       "      <td>$1,772,400.00</td>\n",
       "    </tr>\n",
       "    <tr>\n",
       "      <th>10%</th>\n",
       "      <td>1097</td>\n",
       "      <td>998</td>\n",
       "      <td>$28,887,800.00</td>\n",
       "      <td>$32,022,400.00</td>\n",
       "      <td>$3,134,600.00</td>\n",
       "    </tr>\n",
       "    <tr>\n",
       "      <th>15%</th>\n",
       "      <td>1375</td>\n",
       "      <td>1220</td>\n",
       "      <td>$35,766,600.00</td>\n",
       "      <td>$34,850,700.00</td>\n",
       "      <td>$915,900.00</td>\n",
       "    </tr>\n",
       "    <tr>\n",
       "      <th>20%</th>\n",
       "      <td>1559</td>\n",
       "      <td>1322</td>\n",
       "      <td>$44,077,500.00</td>\n",
       "      <td>$36,087,800.00</td>\n",
       "      <td>$7,989,700.00</td>\n",
       "    </tr>\n",
       "    <tr>\n",
       "      <th>25%</th>\n",
       "      <td>1675</td>\n",
       "      <td>1411</td>\n",
       "      <td>$49,420,500.00</td>\n",
       "      <td>$47,820,300.00</td>\n",
       "      <td>$1,600,200.00</td>\n",
       "    </tr>\n",
       "    <tr>\n",
       "      <th>30%</th>\n",
       "      <td>1764</td>\n",
       "      <td>1486</td>\n",
       "      <td>$62,738,500.00</td>\n",
       "      <td>$55,516,800.00</td>\n",
       "      <td>$7,221,700.00</td>\n",
       "    </tr>\n",
       "    <tr>\n",
       "      <th>35%</th>\n",
       "      <td>1845</td>\n",
       "      <td>1579</td>\n",
       "      <td>$72,631,200.00</td>\n",
       "      <td>$64,264,100.00</td>\n",
       "      <td>$8,367,100.00</td>\n",
       "    </tr>\n",
       "    <tr>\n",
       "      <th>40%</th>\n",
       "      <td>1914</td>\n",
       "      <td>1688</td>\n",
       "      <td>$74,662,100.00</td>\n",
       "      <td>$81,462,200.00</td>\n",
       "      <td>$6,800,100.00</td>\n",
       "    </tr>\n",
       "    <tr>\n",
       "      <th>45%</th>\n",
       "      <td>1962</td>\n",
       "      <td>1771</td>\n",
       "      <td>$75,764,000.00</td>\n",
       "      <td>$84,480,300.00</td>\n",
       "      <td>$8,716,300.00</td>\n",
       "    </tr>\n",
       "    <tr>\n",
       "      <th>50%</th>\n",
       "      <td>2002</td>\n",
       "      <td>1866</td>\n",
       "      <td>$77,039,100.00</td>\n",
       "      <td>$85,640,600.00</td>\n",
       "      <td>$8,601,500.00</td>\n",
       "    </tr>\n",
       "  </tbody>\n",
       "</table>\n",
       "</div>"
      ],
      "text/plain": [
       "                      total_buy_orders  total_sell_orders      Buy_volume  \\\n",
       "%_from_current_price                                                        \n",
       "5%                                 684                616  $23,596,000.00   \n",
       "10%                               1097                998  $28,887,800.00   \n",
       "15%                               1375               1220  $35,766,600.00   \n",
       "20%                               1559               1322  $44,077,500.00   \n",
       "25%                               1675               1411  $49,420,500.00   \n",
       "30%                               1764               1486  $62,738,500.00   \n",
       "35%                               1845               1579  $72,631,200.00   \n",
       "40%                               1914               1688  $74,662,100.00   \n",
       "45%                               1962               1771  $75,764,000.00   \n",
       "50%                               2002               1866  $77,039,100.00   \n",
       "\n",
       "                         sell_volume     Difference  \n",
       "%_from_current_price                                 \n",
       "5%                    $25,368,400.00  $1,772,400.00  \n",
       "10%                   $32,022,400.00  $3,134,600.00  \n",
       "15%                   $34,850,700.00    $915,900.00  \n",
       "20%                   $36,087,800.00  $7,989,700.00  \n",
       "25%                   $47,820,300.00  $1,600,200.00  \n",
       "30%                   $55,516,800.00  $7,221,700.00  \n",
       "35%                   $64,264,100.00  $8,367,100.00  \n",
       "40%                   $81,462,200.00  $6,800,100.00  \n",
       "45%                   $84,480,300.00  $8,716,300.00  \n",
       "50%                   $85,640,600.00  $8,601,500.00  "
      ]
     },
     "execution_count": 6,
     "metadata": {},
     "output_type": "execute_result"
    }
   ],
   "source": [
    "curr_price = get_curr_price(contract)\n",
    "df_data = []\n",
    "percentile, idx = 0.05, 0\n",
    "\n",
    "while percentile <= 0.5:\n",
    "    k_buy = curr_price - (curr_price * percentile)\n",
    "    k_sell = curr_price + (curr_price * percentile)\n",
    "\n",
    "    book_data = orderbook_data_by_percentile(k_buy, k_sell, contract)\n",
    "\n",
    "    df_data.append([f\"{round(percentile*100)}%\", book_data['total_buys'], book_data['total_sells'],\n",
    "                    f\"${book_data['sum_of_buys']:,.2f}\", f\"${book_data['sum_of_sells']:,.2f}\",\n",
    "                    f\"${abs(book_data['sum_of_sells']-book_data['sum_of_buys']):,.2f}\"])\n",
    "\n",
    "    percentile += 0.05\n",
    "    idx == 1\n",
    "\n",
    "df = pd.DataFrame(df_data, columns=[\"%_from_current_price\", \"total_buy_orders\", \"total_sell_orders\",\n",
    "                                    \"Buy_volume\", \"sell_volume\", \"Difference\"])\n",
    "df.set_index('%_from_current_price', inplace=True)\n",
    "\n",
    "print(f\"Current price: {curr_price}\")\n",
    "df"
   ]
  },
  {
   "cell_type": "markdown",
   "metadata": {},
   "source": [
    "5% seems to be the optimal level due to it holding the highest amount of buys / sells, and the frequency our system is trading on."
   ]
  },
  {
   "cell_type": "markdown",
   "metadata": {},
   "source": [
    "---\n",
    "\n",
    "# Part 3. Find the Peaks in Data Range\n",
    "\n",
    "Collect the order book data and build two ```DataFrame```'s from the buy and sell sides"
   ]
  },
  {
   "cell_type": "code",
   "execution_count": 94,
   "metadata": {},
   "outputs": [
    {
     "data": {
      "text/html": [
       "<div>\n",
       "<style scoped>\n",
       "    .dataframe tbody tr th:only-of-type {\n",
       "        vertical-align: middle;\n",
       "    }\n",
       "\n",
       "    .dataframe tbody tr th {\n",
       "        vertical-align: top;\n",
       "    }\n",
       "\n",
       "    .dataframe thead th {\n",
       "        text-align: right;\n",
       "    }\n",
       "</style>\n",
       "<table border=\"1\" class=\"dataframe\">\n",
       "  <thead>\n",
       "    <tr style=\"text-align: right;\">\n",
       "      <th></th>\n",
       "      <th>size</th>\n",
       "      <th>price</th>\n",
       "    </tr>\n",
       "  </thead>\n",
       "  <tbody>\n",
       "    <tr>\n",
       "      <th>0</th>\n",
       "      <td>29300</td>\n",
       "      <td>21695.0</td>\n",
       "    </tr>\n",
       "    <tr>\n",
       "      <th>1</th>\n",
       "      <td>10000</td>\n",
       "      <td>21693.5</td>\n",
       "    </tr>\n",
       "    <tr>\n",
       "      <th>2</th>\n",
       "      <td>5600</td>\n",
       "      <td>21692.5</td>\n",
       "    </tr>\n",
       "    <tr>\n",
       "      <th>3</th>\n",
       "      <td>49000</td>\n",
       "      <td>21691.0</td>\n",
       "    </tr>\n",
       "    <tr>\n",
       "      <th>4</th>\n",
       "      <td>40200</td>\n",
       "      <td>21690.5</td>\n",
       "    </tr>\n",
       "  </tbody>\n",
       "</table>\n",
       "</div>"
      ],
      "text/plain": [
       "    size    price\n",
       "0  29300  21695.0\n",
       "1  10000  21693.5\n",
       "2   5600  21692.5\n",
       "3  49000  21691.0\n",
       "4  40200  21690.5"
      ]
     },
     "execution_count": 94,
     "metadata": {},
     "output_type": "execute_result"
    }
   ],
   "source": [
    "curr_price = get_curr_price(contract)\n",
    "df_data = []\n",
    "percentile = 0.05\n",
    "\n",
    "k_buy = curr_price - (curr_price * percentile)\n",
    "k_sell = curr_price + (curr_price * percentile)\n",
    "\n",
    "book_data, raw_buy_nodes, raw_sell_nodes = orderbook_data_by_percentile(k_buy, k_sell, contract, raw_data=True)\n",
    "\n",
    "buy_orders_df = pd.DataFrame({\"size\": raw_buy_nodes['size'], \"price\": raw_buy_nodes['price']})\n",
    "sell_orders_df = pd.DataFrame({\"size\": raw_sell_nodes['size'], \"price\": raw_sell_nodes['price']})\n",
    "\n",
    "buy_orders_df.head()"
   ]
  },
  {
   "cell_type": "markdown",
   "metadata": {},
   "source": [
    "Using ```scipy.signal```'s ```find_peaks``` we can locates the closest noticable spikes of buy and sell orders for each given side.\n",
    "\n",
    "- We set the distance to be: ```len(y)//```$threshold$\n",
    "- we set the amount to be: ```len(y)//```$distance$"
   ]
  },
  {
   "cell_type": "code",
   "execution_count": 91,
   "metadata": {},
   "outputs": [
    {
     "name": "stdout",
     "output_type": "stream",
     "text": [
      "Buy peaks [21455.  21282.  21093.5 20900.  20600.5]\n",
      "Sell peaks [22396.5 22112.5 21726.  21565.5]\n",
      "Buy volume peaks [1171000 6597500  627800 1180800  622500]\n",
      "Sell volume peaks [ 416700 2000000 6735000  629800] \n",
      "\n",
      "Total of buy peaks $9,781,500.00\n",
      "Total of sell peaks $10,199,600.00\n",
      "\n",
      "Total of order book depth (buy side): $31,836,200.00\n",
      "Total of order book depth (sell side): $31,119,800.00\n",
      "\n",
      "IQR of buy peaks 382.0\n",
      "IQR of sell peaks 497.625\n",
      "-\n",
      "\n",
      "Sell orders of $416,700 in volume at $22,396.50\n",
      "Sell orders of $2,000,000 in volume at $22,112.50\n",
      "Sell orders of $6,735,000 in volume at $21,726.00\n",
      "Sell orders of $629,800 in volume at $21,565.50\n",
      "-\n",
      "Current Price: $21,511.00\n",
      "-\n",
      "Buy orders of $1,171,000 in volume at $21,455.00\n",
      "Buy orders of $6,597,500 in volume at $21,282.00\n",
      "Buy orders of $627,800 in volume at $21,093.50\n",
      "Buy orders of $1,180,800 in volume at $20,900.00\n",
      "Buy orders of $622,500 in volume at $20,600.50\n"
     ]
    }
   ],
   "source": [
    "x_buy = buy_orders_df['price']\n",
    "y_buy = buy_orders_df['size']\n",
    "x_sell = sell_orders_df['price']\n",
    "y_sell = sell_orders_df['size']\n",
    "\n",
    "threshold = 3   # Required threshold of peaks, the vertical distance to its neighboring samples.\n",
    "distance = 6    # Required minimal horizontal distance (>= 1) in samples between neighbouring peaks\n",
    "\n",
    "# Peaks\n",
    "buy_peaks, _ = find_peaks(y_buy, threshold=len(y_buy)//threshold, distance=len(y_buy)//distance)\n",
    "sell_peaks, _ = find_peaks(y_sell, threshold=len(y_sell)//threshold, distance=len(y_sell)//distance)\n",
    "\n",
    "sp = np.array([x_sell[i] for i in sell_peaks])\n",
    "bp = np.array([x_buy[i] for i in buy_peaks])\n",
    "vbp = np.array([y_sell[i] for i in sell_peaks])\n",
    "vsp = np.array([y_buy[i] for i in buy_peaks])\n",
    "\n",
    "print(\"Buy peaks\", bp)\n",
    "print(\"Sell peaks\", sp)\n",
    "print(\"Buy volume peaks\", vsp)\n",
    "print(\"Sell volume peaks\", vbp, '\\n')\n",
    "\n",
    "print(f\"Total of buy peaks ${vbp.sum():,.2f}\")\n",
    "print(f\"Total of sell peaks ${vsp.sum():,.2f}\\n\")\n",
    "\n",
    "print(f\"Total of order book depth (buy side): ${y_buy.sum():,.2f}\")\n",
    "print(f\"Total of order book depth (sell side): ${y_sell.sum():,.2f}\")\n",
    "\n",
    "print(\"\\nIQR of buy peaks\", iqr(bp))\n",
    "print(\"IQR of sell peaks\", iqr(sp))\n",
    "print('-\\n')\n",
    "\n",
    "\n",
    "for i in sell_peaks:\n",
    "    print(f\"Sell orders of ${y_sell[i]:,.0f} in volume at ${x_sell[i]:,.2f}\")\n",
    "\n",
    "print(f'-\\nCurrent Price: ${curr_price:,.2f}\\n-')\n",
    "\n",
    "for i in buy_peaks:\n",
    "    print(f\"Buy orders of ${y_buy[i]:,.0f} in volume at ${x_buy[i]:,.2f}\")\n"
   ]
  },
  {
   "cell_type": "markdown",
   "metadata": {},
   "source": [
    "### Plot the results\n",
    "\n",
    "\n",
    "Buy Orders:"
   ]
  },
  {
   "cell_type": "code",
   "execution_count": 85,
   "metadata": {},
   "outputs": [
    {
     "data": {
      "image/png": "[encoded data removed]",
      "text/plain": [
       "<Figure size 1224x504 with 1 Axes>"
      ]
     },
     "metadata": {
      "needs_background": "light"
     },
     "output_type": "display_data"
    }
   ],
   "source": [
    "plt.plot([i for i in range(len(x_buy))], y_buy, label=\"Buy Volume\")\n",
    "plt.plot(buy_peaks, y_buy[buy_peaks], \"x\", label=\"Peaks\")\n",
    "plt.title(f'{contract} Buy Orders')\n",
    "plt.grid()\n",
    "plt.legend()\n",
    "plt.show()"
   ]
  },
  {
   "cell_type": "markdown",
   "metadata": {},
   "source": [
    "Sell Orders:"
   ]
  },
  {
   "cell_type": "code",
   "execution_count": 86,
   "metadata": {},
   "outputs": [
    {
     "data": {
      "image/png": "[encoded data removed]",
      "text/plain": [
       "<Figure size 1224x504 with 1 Axes>"
      ]
     },
     "metadata": {
      "needs_background": "light"
     },
     "output_type": "display_data"
    }
   ],
   "source": [
    "plt.plot([i for i in range(len(x_sell))], y_sell, label=\"Sell Volume\")\n",
    "plt.plot(sell_peaks, y_sell[sell_peaks], \"x\", label=\"Peaks\")\n",
    "plt.title(f'{contract} Sell Orders')\n",
    "plt.grid()\n",
    "plt.legend()\n",
    "plt.show()"
   ]
  },
  {
   "cell_type": "markdown",
   "metadata": {},
   "source": [
    "Now we know the price with the highest order volume within $n$% of the price, and the same below the current price, this will act as our anchor. \n",
    "\n",
    "We will re-calculate with every tick and use those two exact amounts to dynamically change the stop levels as the price approaches or moves further away. The more frequent we re-calculate, the higher the chance will be to detect spoofing in the order books."
   ]
  }
 ],
 "metadata": {
  "kernelspec": {
   "display_name": "Python 3.9.10 64-bit",
   "language": "python",
   "name": "python3"
  },
  "language_info": {
   "codemirror_mode": {
    "name": "ipython",
    "version": 3
   },
   "file_extension": ".py",
   "mimetype": "text/x-python",
   "name": "python",
   "nbconvert_exporter": "python",
   "pygments_lexer": "ipython3",
   "version": "3.9.10"
  },
  "orig_nbformat": 4,
  "vscode": {
   "interpreter": {
    "hash": "aee8b7b246df8f9039afb4144a1f6fd8d2ca17a180786b69acc140d282b71a49"
   }
  }
 },
 "nbformat": 4,
 "nbformat_minor": 2
}
