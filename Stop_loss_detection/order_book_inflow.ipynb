{
 "cells": [
  {
   "cell_type": "markdown",
   "metadata": {},
   "source": [
    "# Import Libraries"
   ]
  },
  {
   "cell_type": "code",
   "execution_count": 1,
   "metadata": {},
   "outputs": [],
   "source": [
    "import pandas as pd\n",
    "import numpy as np\n",
    "import matplotlib.pyplot as plt\n",
    "\n",
    "import datetime\n",
    "import time\n",
    "import dateutil.parser\n",
    "import requests\n",
    "from typing import List, Dict\n",
    "\n",
    "%matplotlib inline\n",
    "plt.rcParams['figure.figsize'] = [17, 7]"
   ]
  },
  {
   "cell_type": "markdown",
   "metadata": {},
   "source": [
    "# Get Order Book Data"
   ]
  },
  {
   "cell_type": "code",
   "execution_count": 9,
   "metadata": {},
   "outputs": [],
   "source": [
    "def orderbook_data(depth: int, contract: str = \"ETHUSD\", raw_data=False):\n",
    "\n",
    "    url = \"https://www.bitmex.com/api/v1/orderBook/L2\"\n",
    "    book_data = {'buys': 0, 'sells': 0}\n",
    "    raw_book_data = {'total_buys': 0, 'buys': 0, 'total_sells': 0, 'sells': 0}\n",
    "\n",
    "    # Set inputs\n",
    "    data = dict()\n",
    "    data['symbol'] = contract\n",
    "    data['depth'] = depth\n",
    "\n",
    "    try:\n",
    "        response = requests.get(url, params=data)\n",
    "    except Exception as e:\n",
    "        print(f\"Connecton error while making GET request to {url}: {e}\")\n",
    "        return\n",
    "\n",
    "    if response.status_code == 200:\n",
    "        data = response.json()\n",
    "    else:\n",
    "        print(f\"Error while making GET request to {url}: {response.status_code}\")\n",
    "        print(response.headers)\n",
    "        return None\n",
    "    \n",
    "    if data is not None:\n",
    "        if raw_data:\n",
    "            for data in data:\n",
    "                if data['side'] == \"Buy\":\n",
    "                    raw_book_data[\"buys\"] += data[\"size\"]\n",
    "                    raw_book_data['total_buys'] += 1\n",
    "\n",
    "                elif data['side'] == \"Sell\":\n",
    "                    raw_book_data[\"sells\"] += data[\"size\"]\n",
    "                    raw_book_data['total_sells'] += 1\n",
    "\n",
    "            return raw_book_data\n",
    "\n",
    "        else:\n",
    "            for data in data:\n",
    "                if data['side'] == \"Buy\":\n",
    "                    book_data[\"buys\"] += data[\"size\"]\n",
    "\n",
    "                elif data['side'] == \"Sell\":\n",
    "                    book_data[\"sells\"] += data[\"size\"]\n",
    "    \n",
    "            return book_data"
   ]
  },
  {
   "cell_type": "code",
   "execution_count": 11,
   "metadata": {},
   "outputs": [
    {
     "ename": "TypeError",
     "evalue": "list indices must be integers or slices, not str",
     "output_type": "error",
     "traceback": [
      "\u001b[0;31m---------------------------------------------------------------------------\u001b[0m",
      "\u001b[0;31mTypeError\u001b[0m                                 Traceback (most recent call last)",
      "\u001b[1;32m/Users/geofreeman/Desktop/Strategies/Strategies/Stop_loss_detection/order_book_inflow.ipynb Cell 5'\u001b[0m in \u001b[0;36m<cell line: 6>\u001b[0;34m()\u001b[0m\n\u001b[1;32m      <a href='vscode-notebook-cell:/Users/geofreeman/Desktop/Strategies/Strategies/Stop_loss_detection/order_book_inflow.ipynb#ch0000004?line=3'>4</a>\u001b[0m book_data \u001b[39m=\u001b[39m orderbook_data(depth, contract, raw_data\u001b[39m=\u001b[39m\u001b[39mFalse\u001b[39;00m)\n\u001b[1;32m      <a href='vscode-notebook-cell:/Users/geofreeman/Desktop/Strategies/Strategies/Stop_loss_detection/order_book_inflow.ipynb#ch0000004?line=4'>5</a>\u001b[0m book_size \u001b[39m=\u001b[39m orderbook_data(\u001b[39m0\u001b[39m, contract, raw_data\u001b[39m=\u001b[39m\u001b[39mTrue\u001b[39;00m)\n\u001b[0;32m----> <a href='vscode-notebook-cell:/Users/geofreeman/Desktop/Strategies/Strategies/Stop_loss_detection/order_book_inflow.ipynb#ch0000004?line=5'>6</a>\u001b[0m book_size \u001b[39m=\u001b[39m (\u001b[39mlen\u001b[39m(book_size[\u001b[39m\"\u001b[39;49m\u001b[39mbuys\u001b[39;49m\u001b[39m\"\u001b[39;49m]) \u001b[39m+\u001b[39m \u001b[39mlen\u001b[39m(book_size[\u001b[39m\"\u001b[39m\u001b[39msells\u001b[39m\u001b[39m\"\u001b[39m])) \u001b[39m/\u001b[39m\u001b[39m/\u001b[39m \u001b[39m2\u001b[39m\n\u001b[1;32m      <a href='vscode-notebook-cell:/Users/geofreeman/Desktop/Strategies/Strategies/Stop_loss_detection/order_book_inflow.ipynb#ch0000004?line=7'>8</a>\u001b[0m ret \u001b[39m=\u001b[39m \u001b[39m\"\u001b[39m\u001b[39mBuyers\u001b[39m\u001b[39m\"\u001b[39m \u001b[39mif\u001b[39;00m book_data[\u001b[39m\"\u001b[39m\u001b[39mbuys\u001b[39m\u001b[39m\"\u001b[39m] \u001b[39m>\u001b[39m book_data[\u001b[39m\"\u001b[39m\u001b[39msells\u001b[39m\u001b[39m\"\u001b[39m] \u001b[39melse\u001b[39;00m \u001b[39m\"\u001b[39m\u001b[39msellers\u001b[39m\u001b[39m\"\u001b[39m\n\u001b[1;32m     <a href='vscode-notebook-cell:/Users/geofreeman/Desktop/Strategies/Strategies/Stop_loss_detection/order_book_inflow.ipynb#ch0000004?line=9'>10</a>\u001b[0m \u001b[39mif\u001b[39;00m ret \u001b[39m==\u001b[39m \u001b[39m\"\u001b[39m\u001b[39mBuyers\u001b[39m\u001b[39m\"\u001b[39m:\n",
      "\u001b[0;31mTypeError\u001b[0m: list indices must be integers or slices, not str"
     ]
    }
   ],
   "source": [
    "depth = 500\n",
    "contract = \"XBTUSD\"\n",
    "\n",
    "book_data = orderbook_data(depth, contract, raw_data=False)\n",
    "book_size = orderbook_data(0, contract, raw_data=True)\n",
    "book_size = (len(book_size[\"total_buys\"]) + len(book_size[\"total_sells\"])) // 2\n",
    "\n",
    "ret = \"Buyers\" if book_data[\"buys\"] > book_data[\"sells\"] else \"sellers\"\n",
    "\n",
    "if ret == \"Buyers\":\n",
    "    amount = book_data[\"buys\"] - book_data[\"sells\"]\n",
    "else:\n",
    "    amount = book_data[\"sells\"] - book_data[\"buys\"]\n",
    "\n",
    "\n",
    "print(book_data)\n",
    "print(f\"\\nThere are {amount} more order values from {ret}\")\n",
    "print(f\"\\nThe size of the order book for {contract} is {book_size}\")"
   ]
  }
 ],
 "metadata": {
  "kernelspec": {
   "display_name": "Python 3.9.10 64-bit",
   "language": "python",
   "name": "python3"
  },
  "language_info": {
   "codemirror_mode": {
    "name": "ipython",
    "version": 3
   },
   "file_extension": ".py",
   "mimetype": "text/x-python",
   "name": "python",
   "nbconvert_exporter": "python",
   "pygments_lexer": "ipython3",
   "version": "3.9.10"
  },
  "orig_nbformat": 4,
  "vscode": {
   "interpreter": {
    "hash": "aee8b7b246df8f9039afb4144a1f6fd8d2ca17a180786b69acc140d282b71a49"
   }
  }
 },
 "nbformat": 4,
 "nbformat_minor": 2
}
