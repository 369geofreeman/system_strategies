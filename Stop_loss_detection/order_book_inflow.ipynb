{
 "cells": [
  {
   "cell_type": "markdown",
   "metadata": {},
   "source": [
    "# Import Libraries"
   ]
  },
  {
   "cell_type": "code",
   "execution_count": 1,
   "metadata": {},
   "outputs": [],
   "source": [
    "import pandas as pd\n",
    "import numpy as np\n",
    "import matplotlib.pyplot as plt\n",
    "\n",
    "import datetime\n",
    "import time\n",
    "import dateutil.parser\n",
    "import requests\n",
    "from typing import List, Dict\n",
    "\n",
    "%matplotlib inline\n",
    "plt.rcParams['figure.figsize'] = [17, 7]"
   ]
  },
  {
   "cell_type": "markdown",
   "metadata": {},
   "source": [
    "# Get Order Book Data"
   ]
  },
  {
   "cell_type": "code",
   "execution_count": 25,
   "metadata": {},
   "outputs": [],
   "source": [
    "def orderbook_data(depth: int, contract: str = \"ETHUSD\", raw_data=False):\n",
    "\n",
    "    url = \"https://www.bitmex.com/api/v1/orderBook/L2\"\n",
    "    book_data = {'buys': 0, 'sells': 0}\n",
    "    raw_book_data = {'total_buys': 0, 'sum_of_buys': 0, 'furthest_buy_price': 0,\n",
    "                    'total_sells': 0, 'sum_of_sells': 0, 'furthest_sell_price': 0}\n",
    "\n",
    "    # Set inputs\n",
    "    data = dict()\n",
    "    data['symbol'] = contract\n",
    "    data['depth'] = depth\n",
    "\n",
    "    try:\n",
    "        response = requests.get(url, params=data)\n",
    "    except Exception as e:\n",
    "        print(f\"Connecton error while making GET request to {url}: {e}\")\n",
    "        return\n",
    "\n",
    "    if response.status_code == 200:\n",
    "        response_data = response.json()\n",
    "    else:\n",
    "        print(f\"Error while making GET request to {url}: {response.status_code}\")\n",
    "        print(response.headers)\n",
    "        return None\n",
    "    \n",
    "    if response_data is not None:\n",
    "        if raw_data:\n",
    "            for idx, data in enumerate(response_data):\n",
    "\n",
    "                if idx == 0:\n",
    "                    raw_book_data['furthest_sell_price'] = data['price']\n",
    "\n",
    "                if idx == len(response_data)-1:\n",
    "                    raw_book_data['furthest_buy_price'] = data['price']\n",
    "\n",
    "                if data['side'] == \"Buy\":\n",
    "                    raw_book_data[\"sum_of_buys\"] += data[\"size\"]\n",
    "                    raw_book_data['total_buys'] += 1\n",
    "\n",
    "                elif data['side'] == \"Sell\":\n",
    "                    raw_book_data[\"sum_of_sells\"] += data[\"size\"]\n",
    "                    raw_book_data['total_sells'] += 1\n",
    "\n",
    "            return raw_book_data\n",
    "\n",
    "        else:\n",
    "            for data in response_data:\n",
    "                if data['side'] == \"Buy\":\n",
    "                    book_data[\"buys\"] += data[\"size\"]\n",
    "\n",
    "                elif data['side'] == \"Sell\":\n",
    "                    book_data[\"sells\"] += data[\"size\"]\n",
    "    \n",
    "            return book_data"
   ]
  },
  {
   "cell_type": "markdown",
   "metadata": {},
   "source": [
    "# Get current price"
   ]
  },
  {
   "cell_type": "code",
   "execution_count": 23,
   "metadata": {},
   "outputs": [],
   "source": [
    "def get_curr_price(contract: str) -> str:\n",
    "\n",
    "    url = \"https://www.bitmex.com/api/v1/trade/bucketed\"\n",
    "\n",
    "    data = dict()\n",
    "    data['symbol'] = contract\n",
    "    data['partial'] = True  # returns a candle if it is not finished yet\n",
    "    data['binSize'] = '1m'\n",
    "    data['count'] = 1   # how many candles we can return (500 max)\n",
    "    data['reverse'] = True\n",
    "\n",
    "    try:\n",
    "        response = requests.get(url, params=data)\n",
    "    except Exception as e:\n",
    "        print(f\"Connecton error while making GET request to {url}: {e}\")\n",
    "        return\n",
    "\n",
    "    if response.status_code == 200:\n",
    "        raw_candles = response.json()\n",
    "    else:\n",
    "        print(f\"Error while making GET request to {url}: {response.status_code}\")\n",
    "        print(response.headers)\n",
    "        return None\n",
    "    \n",
    "    if raw_candles is not None:\n",
    "        return raw_candles[0]['close']"
   ]
  },
  {
   "cell_type": "markdown",
   "metadata": {},
   "source": [
    "# Get Size of the OrderBook"
   ]
  },
  {
   "cell_type": "code",
   "execution_count": 27,
   "metadata": {},
   "outputs": [
    {
     "name": "stdout",
     "output_type": "stream",
     "text": [
      "\n",
      "The average size of the order book for XBTUSD is 2643\n",
      "\n",
      "Total buys: 1919\n",
      "Total sells: 3367\n",
      "\n",
      "Current price $19168\n",
      "Furthest buy price: $0.5\n",
      "Furthest sell price: $1000000\n"
     ]
    }
   ],
   "source": [
    "contract = \"XBTUSD\"\n",
    "\n",
    "book_size = orderbook_data(0, contract, raw_data=True)\n",
    "book_size_avg = (book_size[\"total_buys\"] + book_size[\"total_sells\"]) // 2\n",
    "\n",
    "curr_price = get_curr_price(contract)\n",
    "\n",
    "\n",
    "print(f\"\\nThe average size of the order book for {contract} is {book_size_avg}\")\n",
    "print(f'\\nTotal buys: {book_size[\"total_buys\"]}')\n",
    "print(f'Total sells: {book_size[\"total_sells\"]}')\n",
    "print(f\"\\nCurrent price ${curr_price}\")\n",
    "print(f'Furthest buy price: ${book_size[\"furthest_buy_price\"]}')\n",
    "print(f'Furthest sell price: ${book_size[\"furthest_sell_price\"]}')"
   ]
  },
  {
   "cell_type": "code",
   "execution_count": 11,
   "metadata": {},
   "outputs": [
    {
     "ename": "TypeError",
     "evalue": "list indices must be integers or slices, not str",
     "output_type": "error",
     "traceback": [
      "\u001b[0;31m---------------------------------------------------------------------------\u001b[0m",
      "\u001b[0;31mTypeError\u001b[0m                                 Traceback (most recent call last)",
      "\u001b[1;32m/Users/geofreeman/Desktop/Strategies/Strategies/Stop_loss_detection/order_book_inflow.ipynb Cell 5'\u001b[0m in \u001b[0;36m<cell line: 6>\u001b[0;34m()\u001b[0m\n\u001b[1;32m      <a href='vscode-notebook-cell:/Users/geofreeman/Desktop/Strategies/Strategies/Stop_loss_detection/order_book_inflow.ipynb#ch0000004?line=3'>4</a>\u001b[0m book_data \u001b[39m=\u001b[39m orderbook_data(depth, contract, raw_data\u001b[39m=\u001b[39m\u001b[39mFalse\u001b[39;00m)\n\u001b[1;32m      <a href='vscode-notebook-cell:/Users/geofreeman/Desktop/Strategies/Strategies/Stop_loss_detection/order_book_inflow.ipynb#ch0000004?line=4'>5</a>\u001b[0m book_size \u001b[39m=\u001b[39m orderbook_data(\u001b[39m0\u001b[39m, contract, raw_data\u001b[39m=\u001b[39m\u001b[39mTrue\u001b[39;00m)\n\u001b[0;32m----> <a href='vscode-notebook-cell:/Users/geofreeman/Desktop/Strategies/Strategies/Stop_loss_detection/order_book_inflow.ipynb#ch0000004?line=5'>6</a>\u001b[0m book_size \u001b[39m=\u001b[39m (\u001b[39mlen\u001b[39m(book_size[\u001b[39m\"\u001b[39;49m\u001b[39mbuys\u001b[39;49m\u001b[39m\"\u001b[39;49m]) \u001b[39m+\u001b[39m \u001b[39mlen\u001b[39m(book_size[\u001b[39m\"\u001b[39m\u001b[39msells\u001b[39m\u001b[39m\"\u001b[39m])) \u001b[39m/\u001b[39m\u001b[39m/\u001b[39m \u001b[39m2\u001b[39m\n\u001b[1;32m      <a href='vscode-notebook-cell:/Users/geofreeman/Desktop/Strategies/Strategies/Stop_loss_detection/order_book_inflow.ipynb#ch0000004?line=7'>8</a>\u001b[0m ret \u001b[39m=\u001b[39m \u001b[39m\"\u001b[39m\u001b[39mBuyers\u001b[39m\u001b[39m\"\u001b[39m \u001b[39mif\u001b[39;00m book_data[\u001b[39m\"\u001b[39m\u001b[39mbuys\u001b[39m\u001b[39m\"\u001b[39m] \u001b[39m>\u001b[39m book_data[\u001b[39m\"\u001b[39m\u001b[39msells\u001b[39m\u001b[39m\"\u001b[39m] \u001b[39melse\u001b[39;00m \u001b[39m\"\u001b[39m\u001b[39msellers\u001b[39m\u001b[39m\"\u001b[39m\n\u001b[1;32m     <a href='vscode-notebook-cell:/Users/geofreeman/Desktop/Strategies/Strategies/Stop_loss_detection/order_book_inflow.ipynb#ch0000004?line=9'>10</a>\u001b[0m \u001b[39mif\u001b[39;00m ret \u001b[39m==\u001b[39m \u001b[39m\"\u001b[39m\u001b[39mBuyers\u001b[39m\u001b[39m\"\u001b[39m:\n",
      "\u001b[0;31mTypeError\u001b[0m: list indices must be integers or slices, not str"
     ]
    }
   ],
   "source": [
    "depth = 500\n",
    "contract = \"XBTUSD\"\n",
    "\n",
    "book_data = orderbook_data(depth, contract, raw_data=False)\n",
    "\n",
    "ret = \"Buyers\" if book_data[\"buys\"] > book_data[\"sells\"] else \"sellers\"\n",
    "\n",
    "if ret == \"Buyers\":\n",
    "    amount = book_data[\"buys\"] - book_data[\"sells\"]\n",
    "else:\n",
    "    amount = book_data[\"sells\"] - book_data[\"buys\"]\n",
    "\n",
    "\n",
    "print(book_data)\n",
    "print(f\"\\nThere are {amount} more order values from {ret}\")"
   ]
  }
 ],
 "metadata": {
  "kernelspec": {
   "display_name": "Python 3.9.10 64-bit",
   "language": "python",
   "name": "python3"
  },
  "language_info": {
   "codemirror_mode": {
    "name": "ipython",
    "version": 3
   },
   "file_extension": ".py",
   "mimetype": "text/x-python",
   "name": "python",
   "nbconvert_exporter": "python",
   "pygments_lexer": "ipython3",
   "version": "3.9.10"
  },
  "orig_nbformat": 4,
  "vscode": {
   "interpreter": {
    "hash": "aee8b7b246df8f9039afb4144a1f6fd8d2ca17a180786b69acc140d282b71a49"
   }
  }
 },
 "nbformat": 4,
 "nbformat_minor": 2
}
