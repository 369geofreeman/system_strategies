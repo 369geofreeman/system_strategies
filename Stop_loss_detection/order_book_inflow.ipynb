{
 "cells": [
  {
   "cell_type": "markdown",
   "metadata": {},
   "source": [
    "# Import Libraries"
   ]
  },
  {
   "cell_type": "code",
   "execution_count": 1,
   "metadata": {},
   "outputs": [],
   "source": [
    "import pandas as pd\n",
    "import numpy as np\n",
    "import matplotlib.pyplot as plt\n",
    "\n",
    "import datetime\n",
    "import time\n",
    "import dateutil.parser\n",
    "import requests\n",
    "from typing import List, Dict\n",
    "\n",
    "%matplotlib inline\n",
    "plt.rcParams['figure.figsize'] = [17, 7]"
   ]
  },
  {
   "cell_type": "markdown",
   "metadata": {},
   "source": [
    "# Get Order Book Data"
   ]
  },
  {
   "cell_type": "code",
   "execution_count": 33,
   "metadata": {},
   "outputs": [],
   "source": [
    "def orderbook_data(depth: int, contract: str = \"ETHUSD\", raw_data=False):\n",
    "\n",
    "    url = \"https://www.bitmex.com/api/v1/orderBook/L2\"\n",
    "    book_data = {'buys': 0, 'sells': 0}\n",
    "    raw_book_data = {'total_buys': 0, 'sum_of_buys': 0, 'furthest_5_buy_prices': [],\n",
    "                    'total_sells': 0, 'sum_of_sells': 0, 'furthest_5_sell_prices': []}\n",
    "\n",
    "\n",
    "    # Set inputs\n",
    "    data = dict()\n",
    "    data['symbol'] = contract\n",
    "    data['depth'] = depth\n",
    "\n",
    "    try:\n",
    "        response = requests.get(url, params=data)\n",
    "    except Exception as e:\n",
    "        print(f\"Connecton error while making GET request to {url}: {e}\")\n",
    "        return\n",
    "\n",
    "    if response.status_code == 200:\n",
    "        response_data = response.json()\n",
    "    else:\n",
    "        print(f\"Error while making GET request to {url}: {response.status_code}\")\n",
    "        print(response.headers)\n",
    "        return None\n",
    "    \n",
    "    if response_data is not None:\n",
    "        if raw_data:\n",
    "            for idx, data in enumerate(response_data):\n",
    "\n",
    "                if idx < 5:\n",
    "                    raw_book_data['furthest_5_buy_prices'].append(data['price'])\n",
    "\n",
    "                if idx > len(response_data)-6:\n",
    "                    raw_book_data['furthest_5_sell_prices'].append(data['price'])\n",
    "\n",
    "                if data['side'] == \"Buy\":\n",
    "                    raw_book_data[\"sum_of_buys\"] += data[\"size\"]\n",
    "                    raw_book_data['total_buys'] += 1\n",
    "\n",
    "                elif data['side'] == \"Sell\":\n",
    "                    raw_book_data[\"sum_of_sells\"] += data[\"size\"]\n",
    "                    raw_book_data['total_sells'] += 1\n",
    "\n",
    "            return raw_book_data\n",
    "\n",
    "        else:\n",
    "            for data in response_data:\n",
    "                if data['side'] == \"Buy\":\n",
    "                    book_data[\"buys\"] += data[\"size\"]\n",
    "\n",
    "                elif data['side'] == \"Sell\":\n",
    "                    book_data[\"sells\"] += data[\"size\"]\n",
    "    \n",
    "            return book_data"
   ]
  },
  {
   "cell_type": "markdown",
   "metadata": {},
   "source": [
    "# Get current price"
   ]
  },
  {
   "cell_type": "code",
   "execution_count": 23,
   "metadata": {},
   "outputs": [],
   "source": [
    "def get_curr_price(contract: str) -> str:\n",
    "\n",
    "    url = \"https://www.bitmex.com/api/v1/trade/bucketed\"\n",
    "\n",
    "    data = dict()\n",
    "    data['symbol'] = contract\n",
    "    data['partial'] = True  # returns a candle if it is not finished yet\n",
    "    data['binSize'] = '1m'\n",
    "    data['count'] = 1   # how many candles we can return (500 max)\n",
    "    data['reverse'] = True\n",
    "\n",
    "    try:\n",
    "        response = requests.get(url, params=data)\n",
    "    except Exception as e:\n",
    "        print(f\"Connecton error while making GET request to {url}: {e}\")\n",
    "        return\n",
    "\n",
    "    if response.status_code == 200:\n",
    "        raw_candles = response.json()\n",
    "    else:\n",
    "        print(f\"Error while making GET request to {url}: {response.status_code}\")\n",
    "        print(response.headers)\n",
    "        return None\n",
    "    \n",
    "    if raw_candles is not None:\n",
    "        return raw_candles[0]['close']"
   ]
  },
  {
   "cell_type": "markdown",
   "metadata": {},
   "source": [
    "# Get Size of the OrderBook\n",
    "\n",
    "Run some stats on the entire orderbook"
   ]
  },
  {
   "cell_type": "code",
   "execution_count": 41,
   "metadata": {},
   "outputs": [
    {
     "name": "stdout",
     "output_type": "stream",
     "text": [
      "\n",
      "Current XBTUSD price: $19,233.00\n",
      "\n",
      "The average size of the order book for XBTUSD is: 2630\n",
      "There are 1383 more orders from sellers\n",
      "\n",
      "Total orderbook size: 5261\n",
      "Total buys: 1939\n",
      "Total sells: 3322\n",
      "\n",
      "Total buy orderbook volume: $78,154,800.00\n",
      "Total sell orderbook volume: $107,601,300.00\n",
      "\n",
      "Furthest 5 buy prices:\n",
      "1 => $1,000,000.00\n",
      "2 => $662,520.00\n",
      "3 => $658,900.00\n",
      "4 => $657,700.00\n",
      "5 => $573,000.00\n",
      "\n",
      "Furthest 5 sell prices:\n",
      "1 => $0.50\n",
      "2 => $1.00\n",
      "3 => $1.50\n",
      "4 => $10.00\n",
      "5 => $30.00\n"
     ]
    }
   ],
   "source": [
    "contract = \"XBTUSD\"\n",
    "\n",
    "book_size = orderbook_data(0, contract, raw_data=True)\n",
    "book_size_avg = (book_size[\"total_buys\"] + book_size[\"total_sells\"]) // 2\n",
    "\n",
    "curr_price = get_curr_price(contract)\n",
    "\n",
    "ret = \"Buyers\" if book_size[\"total_buys\"] > book_size[\"total_sells\"] else \"sellers\"\n",
    "\n",
    "if ret == \"Buyers\":\n",
    "    amount = book_size[\"total_buys\"] - book_size[\"total_sells\"]\n",
    "else:\n",
    "    amount = book_size[\"total_sells\"] - book_size[\"total_buys\"]\n",
    "\n",
    "\n",
    "print(f\"\\nCurrent {contract} price: ${curr_price:,.2f}\")\n",
    "\n",
    "print(f\"\\nThe average size of the order book for {contract} is: {book_size_avg}\")\n",
    "print(f\"There are {amount} more orders from {ret}\")\n",
    "\n",
    "print(f'\\nTotal orderbook size: {book_size[\"total_buys\"]+book_size[\"total_sells\"]}')\n",
    "print(f'Total buys: {book_size[\"total_buys\"]}')\n",
    "print(f'Total sells: {book_size[\"total_sells\"]}')\n",
    "\n",
    "print(f\"\\nTotal buy orderbook volume: ${book_size['sum_of_buys']:,.2f}\")\n",
    "print(f\"Total sell orderbook volume: ${book_size['sum_of_sells']:,.2f}\")\n",
    "\n",
    "print('\\nFurthest 5 buy prices:')\n",
    "for i, v in enumerate(book_size['furthest_5_buy_prices']):\n",
    "    print(f\"{i+1} => ${v:,.2f}\")\n",
    "\n",
    "print('\\nFurthest 5 sell prices:')\n",
    "for i, v in enumerate(book_size['furthest_5_sell_prices'][::-1]):\n",
    "    print(f\"{i+1} => ${v:,.2f}\")"
   ]
  }
 ],
 "metadata": {
  "kernelspec": {
   "display_name": "Python 3.9.10 64-bit",
   "language": "python",
   "name": "python3"
  },
  "language_info": {
   "codemirror_mode": {
    "name": "ipython",
    "version": 3
   },
   "file_extension": ".py",
   "mimetype": "text/x-python",
   "name": "python",
   "nbconvert_exporter": "python",
   "pygments_lexer": "ipython3",
   "version": "3.9.10"
  },
  "orig_nbformat": 4,
  "vscode": {
   "interpreter": {
    "hash": "aee8b7b246df8f9039afb4144a1f6fd8d2ca17a180786b69acc140d282b71a49"
   }
  }
 },
 "nbformat": 4,
 "nbformat_minor": 2
}
